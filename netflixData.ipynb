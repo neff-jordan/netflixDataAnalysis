{
 "cells": [
  {
   "cell_type": "code",
   "execution_count": 98,
   "id": "9b5424ad-3a65-4efb-b110-728afb2e65db",
   "metadata": {
    "tags": []
   },
   "outputs": [],
   "source": [
    "import pandas as pd\n",
    "df = pd.read_csv('ViewingActivity.csv')"
   ]
  },
  {
   "cell_type": "code",
   "execution_count": 99,
   "id": "e7707892-7c74-4a87-9ad3-9bad1afc783d",
   "metadata": {
    "tags": []
   },
   "outputs": [
    {
     "data": {
      "text/plain": [
       "(167, 10)"
      ]
     },
     "execution_count": 99,
     "metadata": {},
     "output_type": "execute_result"
    }
   ],
   "source": [
    "df.shape"
   ]
  },
  {
   "cell_type": "code",
   "execution_count": 100,
   "id": "1c0c18ea-8420-49ee-95ff-e85a88d99a97",
   "metadata": {
    "tags": []
   },
   "outputs": [
    {
     "data": {
      "text/html": [
       "<div>\n",
       "<style scoped>\n",
       "    .dataframe tbody tr th:only-of-type {\n",
       "        vertical-align: middle;\n",
       "    }\n",
       "\n",
       "    .dataframe tbody tr th {\n",
       "        vertical-align: top;\n",
       "    }\n",
       "\n",
       "    .dataframe thead th {\n",
       "        text-align: right;\n",
       "    }\n",
       "</style>\n",
       "<table border=\"1\" class=\"dataframe\">\n",
       "  <thead>\n",
       "    <tr style=\"text-align: right;\">\n",
       "      <th></th>\n",
       "      <th>Profile Name</th>\n",
       "      <th>Start Time</th>\n",
       "      <th>Duration</th>\n",
       "      <th>Attributes</th>\n",
       "      <th>Title</th>\n",
       "      <th>Supplemental Video Type</th>\n",
       "      <th>Device Type</th>\n",
       "      <th>Bookmark</th>\n",
       "      <th>Latest Bookmark</th>\n",
       "      <th>Country</th>\n",
       "    </tr>\n",
       "  </thead>\n",
       "  <tbody>\n",
       "    <tr>\n",
       "      <th>0</th>\n",
       "      <td>Mom &amp; Dad</td>\n",
       "      <td>2022-09-27 21:16:43</td>\n",
       "      <td>00:00:13</td>\n",
       "      <td>Autoplayed: user action: None;</td>\n",
       "      <td>Die Strafe Gottes (Clip): Die Strafe Gottes</td>\n",
       "      <td>HOOK</td>\n",
       "      <td>Samsung CE 2020 Nike-L UHD TV Smart TV</td>\n",
       "      <td>00:00:13</td>\n",
       "      <td>00:00:13</td>\n",
       "      <td>DE (Germany)</td>\n",
       "    </tr>\n",
       "    <tr>\n",
       "      <th>1</th>\n",
       "      <td>Mom &amp; Dad</td>\n",
       "      <td>2022-09-27 19:00:02</td>\n",
       "      <td>02:09:10</td>\n",
       "      <td>Autoplayed: user action: User_Interaction;</td>\n",
       "      <td>A Beautiful Mind – Genie und Wahnsinn</td>\n",
       "      <td>NaN</td>\n",
       "      <td>Samsung CE 2020 Nike-L UHD TV Smart TV</td>\n",
       "      <td>02:09:11</td>\n",
       "      <td>02:09:11</td>\n",
       "      <td>DE (Germany)</td>\n",
       "    </tr>\n",
       "    <tr>\n",
       "      <th>2</th>\n",
       "      <td>Mom &amp; Dad</td>\n",
       "      <td>2022-09-27 18:58:40</td>\n",
       "      <td>00:00:06</td>\n",
       "      <td>Autoplayed: user action: None;</td>\n",
       "      <td>A Jazzman's Blues (Clip): A Jazzman's Blues</td>\n",
       "      <td>HOOK</td>\n",
       "      <td>Samsung CE 2020 Nike-L UHD TV Smart TV</td>\n",
       "      <td>00:00:06</td>\n",
       "      <td>00:00:06</td>\n",
       "      <td>DE (Germany)</td>\n",
       "    </tr>\n",
       "    <tr>\n",
       "      <th>3</th>\n",
       "      <td>Mom &amp; Dad</td>\n",
       "      <td>2022-09-26 18:35:22</td>\n",
       "      <td>01:41:17</td>\n",
       "      <td>NaN</td>\n",
       "      <td>Lou</td>\n",
       "      <td>NaN</td>\n",
       "      <td>Samsung CE 2020 Nike-L UHD TV Smart TV</td>\n",
       "      <td>01:41:19</td>\n",
       "      <td>01:41:19</td>\n",
       "      <td>DE (Germany)</td>\n",
       "    </tr>\n",
       "    <tr>\n",
       "      <th>4</th>\n",
       "      <td>Mom &amp; Dad</td>\n",
       "      <td>2022-09-26 18:35:07</td>\n",
       "      <td>00:00:13</td>\n",
       "      <td>Autoplayed: user action: None;</td>\n",
       "      <td>Lou (Clip 5): Lou</td>\n",
       "      <td>HOOK</td>\n",
       "      <td>Samsung CE 2020 Nike-L UHD TV Smart TV</td>\n",
       "      <td>00:00:13</td>\n",
       "      <td>00:00:13</td>\n",
       "      <td>DE (Germany)</td>\n",
       "    </tr>\n",
       "  </tbody>\n",
       "</table>\n",
       "</div>"
      ],
      "text/plain": [
       "  Profile Name           Start Time  Duration  \\\n",
       "0    Mom & Dad  2022-09-27 21:16:43  00:00:13   \n",
       "1    Mom & Dad  2022-09-27 19:00:02  02:09:10   \n",
       "2    Mom & Dad  2022-09-27 18:58:40  00:00:06   \n",
       "3    Mom & Dad  2022-09-26 18:35:22  01:41:17   \n",
       "4    Mom & Dad  2022-09-26 18:35:07  00:00:13   \n",
       "\n",
       "                                    Attributes  \\\n",
       "0              Autoplayed: user action: None;    \n",
       "1  Autoplayed: user action: User_Interaction;    \n",
       "2              Autoplayed: user action: None;    \n",
       "3                                          NaN   \n",
       "4              Autoplayed: user action: None;    \n",
       "\n",
       "                                         Title Supplemental Video Type  \\\n",
       "0  Die Strafe Gottes (Clip): Die Strafe Gottes                    HOOK   \n",
       "1        A Beautiful Mind – Genie und Wahnsinn                     NaN   \n",
       "2  A Jazzman's Blues (Clip): A Jazzman's Blues                    HOOK   \n",
       "3                                          Lou                     NaN   \n",
       "4                            Lou (Clip 5): Lou                    HOOK   \n",
       "\n",
       "                              Device Type  Bookmark Latest Bookmark  \\\n",
       "0  Samsung CE 2020 Nike-L UHD TV Smart TV  00:00:13        00:00:13   \n",
       "1  Samsung CE 2020 Nike-L UHD TV Smart TV  02:09:11        02:09:11   \n",
       "2  Samsung CE 2020 Nike-L UHD TV Smart TV  00:00:06        00:00:06   \n",
       "3  Samsung CE 2020 Nike-L UHD TV Smart TV  01:41:19        01:41:19   \n",
       "4  Samsung CE 2020 Nike-L UHD TV Smart TV  00:00:13        00:00:13   \n",
       "\n",
       "        Country  \n",
       "0  DE (Germany)  \n",
       "1  DE (Germany)  \n",
       "2  DE (Germany)  \n",
       "3  DE (Germany)  \n",
       "4  DE (Germany)  "
      ]
     },
     "execution_count": 100,
     "metadata": {},
     "output_type": "execute_result"
    }
   ],
   "source": [
    "df.head()"
   ]
  },
  {
   "cell_type": "code",
   "execution_count": 101,
   "id": "677dd78f-db05-47e4-82c8-aad66c0c1f11",
   "metadata": {
    "tags": []
   },
   "outputs": [
    {
     "data": {
      "text/html": [
       "<div>\n",
       "<style scoped>\n",
       "    .dataframe tbody tr th:only-of-type {\n",
       "        vertical-align: middle;\n",
       "    }\n",
       "\n",
       "    .dataframe tbody tr th {\n",
       "        vertical-align: top;\n",
       "    }\n",
       "\n",
       "    .dataframe thead th {\n",
       "        text-align: right;\n",
       "    }\n",
       "</style>\n",
       "<table border=\"1\" class=\"dataframe\">\n",
       "  <thead>\n",
       "    <tr style=\"text-align: right;\">\n",
       "      <th></th>\n",
       "      <th>Profile Name</th>\n",
       "      <th>Start Time</th>\n",
       "      <th>Duration</th>\n",
       "      <th>Attributes</th>\n",
       "      <th>Title</th>\n",
       "      <th>Supplemental Video Type</th>\n",
       "      <th>Device Type</th>\n",
       "      <th>Bookmark</th>\n",
       "      <th>Latest Bookmark</th>\n",
       "      <th>Country</th>\n",
       "    </tr>\n",
       "  </thead>\n",
       "  <tbody>\n",
       "    <tr>\n",
       "      <th>51</th>\n",
       "      <td>Code &amp; Dogs</td>\n",
       "      <td>2022-08-27 11:25:29</td>\n",
       "      <td>00:00:10</td>\n",
       "      <td>Autoplayed: user action: None;</td>\n",
       "      <td>Staffel 1 (Clip): Selling The OC</td>\n",
       "      <td>HOOK</td>\n",
       "      <td>FireTV 4K Stick 2018</td>\n",
       "      <td>00:00:10</td>\n",
       "      <td>00:00:10</td>\n",
       "      <td>DE (Germany)</td>\n",
       "    </tr>\n",
       "    <tr>\n",
       "      <th>49</th>\n",
       "      <td>Code &amp; Dogs</td>\n",
       "      <td>2022-08-27 11:26:10</td>\n",
       "      <td>00:45:14</td>\n",
       "      <td>NaN</td>\n",
       "      <td>Instant Dream Home: Staffel 1: Baby an Bord (F...</td>\n",
       "      <td>NaN</td>\n",
       "      <td>FireTV 4K Stick 2018</td>\n",
       "      <td>00:45:14</td>\n",
       "      <td>00:45:14</td>\n",
       "      <td>DE (Germany)</td>\n",
       "    </tr>\n",
       "    <tr>\n",
       "      <th>109</th>\n",
       "      <td>Kids</td>\n",
       "      <td>2021-08-21 12:17:19</td>\n",
       "      <td>00:09:03</td>\n",
       "      <td>NaN</td>\n",
       "      <td>The LEGO Ninjago Movie: Staffel 1 - Secrets of...</td>\n",
       "      <td>NaN</td>\n",
       "      <td>Samsung CE 2019 Muse-L UHD TV Smart TV</td>\n",
       "      <td>00:09:19</td>\n",
       "      <td>Not latest view</td>\n",
       "      <td>DE (Germany)</td>\n",
       "    </tr>\n",
       "    <tr>\n",
       "      <th>81</th>\n",
       "      <td>Kids</td>\n",
       "      <td>2021-08-28 16:49:51</td>\n",
       "      <td>00:21:35</td>\n",
       "      <td>Autoplayed: user action: User_Interaction;</td>\n",
       "      <td>DreamWorks Dragons: Auf zu neuen Ufern: Staffe...</td>\n",
       "      <td>NaN</td>\n",
       "      <td>Sony Sony Android TV 2015 Smart TV</td>\n",
       "      <td>00:22:26</td>\n",
       "      <td>00:22:26</td>\n",
       "      <td>DE (Germany)</td>\n",
       "    </tr>\n",
       "    <tr>\n",
       "      <th>74</th>\n",
       "      <td>Code &amp; Dogs</td>\n",
       "      <td>2022-08-16 12:11:26</td>\n",
       "      <td>00:42:22</td>\n",
       "      <td>NaN</td>\n",
       "      <td>Keeping Up with the Kardashians: Staffel 7: Ge...</td>\n",
       "      <td>NaN</td>\n",
       "      <td>Apple iPad Pro 12.9 in 5th Gen (Wi-Fi/Cell) iPad</td>\n",
       "      <td>00:43:08</td>\n",
       "      <td>Not latest view</td>\n",
       "      <td>DE (Germany)</td>\n",
       "    </tr>\n",
       "    <tr>\n",
       "      <th>162</th>\n",
       "      <td>Brother &amp; Wife</td>\n",
       "      <td>2022-01-28 10:58:12</td>\n",
       "      <td>00:44:41</td>\n",
       "      <td>Autoplayed: user action: User_Interaction;</td>\n",
       "      <td>The Witcher: Staffel 1: Vor dem Fall (Folge 7)</td>\n",
       "      <td>NaN</td>\n",
       "      <td>Samsung CE 2019 Muse-L UHD TV Smart TV</td>\n",
       "      <td>00:44:47</td>\n",
       "      <td>00:44:47</td>\n",
       "      <td>DE (Germany)</td>\n",
       "    </tr>\n",
       "    <tr>\n",
       "      <th>107</th>\n",
       "      <td>Kids</td>\n",
       "      <td>2021-08-21 12:28:50</td>\n",
       "      <td>00:10:37</td>\n",
       "      <td>NaN</td>\n",
       "      <td>The LEGO Ninjago Movie: Staffel 1 - Secrets of...</td>\n",
       "      <td>NaN</td>\n",
       "      <td>Samsung CE 2019 Muse-L UHD TV Smart TV</td>\n",
       "      <td>00:10:48</td>\n",
       "      <td>Not latest view</td>\n",
       "      <td>DE (Germany)</td>\n",
       "    </tr>\n",
       "    <tr>\n",
       "      <th>40</th>\n",
       "      <td>Friends</td>\n",
       "      <td>2020-06-06 18:27:04</td>\n",
       "      <td>00:46:51</td>\n",
       "      <td>Autoplayed: user action: Unspecified;</td>\n",
       "      <td>Haus des Geldes: Teil 1: Folge 1 (Folge 1)</td>\n",
       "      <td>NaN</td>\n",
       "      <td>Sony Sony Android TV 2018 M2 4K Smart TV</td>\n",
       "      <td>00:46:51</td>\n",
       "      <td>00:46:51</td>\n",
       "      <td>DE (Germany)</td>\n",
       "    </tr>\n",
       "    <tr>\n",
       "      <th>138</th>\n",
       "      <td>Brother &amp; Wife</td>\n",
       "      <td>2022-02-03 10:56:59</td>\n",
       "      <td>00:33:41</td>\n",
       "      <td>NaN</td>\n",
       "      <td>The Witcher: Staffel 2: Familie (Folge 8)</td>\n",
       "      <td>NaN</td>\n",
       "      <td>Samsung CE 2019 Muse-L UHD TV Smart TV</td>\n",
       "      <td>00:51:00</td>\n",
       "      <td>00:51:00</td>\n",
       "      <td>DE (Germany)</td>\n",
       "    </tr>\n",
       "    <tr>\n",
       "      <th>56</th>\n",
       "      <td>Code &amp; Dogs</td>\n",
       "      <td>2022-08-26 18:40:20</td>\n",
       "      <td>00:00:07</td>\n",
       "      <td>Autoplayed: user action: None;</td>\n",
       "      <td>Trailer: Day Shift</td>\n",
       "      <td>TRAILER</td>\n",
       "      <td>FireTV 4K Stick 2018</td>\n",
       "      <td>00:00:07</td>\n",
       "      <td>00:00:07</td>\n",
       "      <td>DE (Germany)</td>\n",
       "    </tr>\n",
       "  </tbody>\n",
       "</table>\n",
       "</div>"
      ],
      "text/plain": [
       "       Profile Name           Start Time  Duration  \\\n",
       "51      Code & Dogs  2022-08-27 11:25:29  00:00:10   \n",
       "49      Code & Dogs  2022-08-27 11:26:10  00:45:14   \n",
       "109            Kids  2021-08-21 12:17:19  00:09:03   \n",
       "81             Kids  2021-08-28 16:49:51  00:21:35   \n",
       "74      Code & Dogs  2022-08-16 12:11:26  00:42:22   \n",
       "162  Brother & Wife  2022-01-28 10:58:12  00:44:41   \n",
       "107            Kids  2021-08-21 12:28:50  00:10:37   \n",
       "40          Friends  2020-06-06 18:27:04  00:46:51   \n",
       "138  Brother & Wife  2022-02-03 10:56:59  00:33:41   \n",
       "56      Code & Dogs  2022-08-26 18:40:20  00:00:07   \n",
       "\n",
       "                                      Attributes  \\\n",
       "51               Autoplayed: user action: None;    \n",
       "49                                           NaN   \n",
       "109                                          NaN   \n",
       "81   Autoplayed: user action: User_Interaction;    \n",
       "74                                           NaN   \n",
       "162  Autoplayed: user action: User_Interaction;    \n",
       "107                                          NaN   \n",
       "40        Autoplayed: user action: Unspecified;    \n",
       "138                                          NaN   \n",
       "56               Autoplayed: user action: None;    \n",
       "\n",
       "                                                 Title  \\\n",
       "51                    Staffel 1 (Clip): Selling The OC   \n",
       "49   Instant Dream Home: Staffel 1: Baby an Bord (F...   \n",
       "109  The LEGO Ninjago Movie: Staffel 1 - Secrets of...   \n",
       "81   DreamWorks Dragons: Auf zu neuen Ufern: Staffe...   \n",
       "74   Keeping Up with the Kardashians: Staffel 7: Ge...   \n",
       "162     The Witcher: Staffel 1: Vor dem Fall (Folge 7)   \n",
       "107  The LEGO Ninjago Movie: Staffel 1 - Secrets of...   \n",
       "40          Haus des Geldes: Teil 1: Folge 1 (Folge 1)   \n",
       "138          The Witcher: Staffel 2: Familie (Folge 8)   \n",
       "56                                  Trailer: Day Shift   \n",
       "\n",
       "    Supplemental Video Type                                       Device Type  \\\n",
       "51                     HOOK                              FireTV 4K Stick 2018   \n",
       "49                      NaN                              FireTV 4K Stick 2018   \n",
       "109                     NaN            Samsung CE 2019 Muse-L UHD TV Smart TV   \n",
       "81                      NaN                Sony Sony Android TV 2015 Smart TV   \n",
       "74                      NaN  Apple iPad Pro 12.9 in 5th Gen (Wi-Fi/Cell) iPad   \n",
       "162                     NaN            Samsung CE 2019 Muse-L UHD TV Smart TV   \n",
       "107                     NaN            Samsung CE 2019 Muse-L UHD TV Smart TV   \n",
       "40                      NaN          Sony Sony Android TV 2018 M2 4K Smart TV   \n",
       "138                     NaN            Samsung CE 2019 Muse-L UHD TV Smart TV   \n",
       "56                  TRAILER                              FireTV 4K Stick 2018   \n",
       "\n",
       "     Bookmark  Latest Bookmark       Country  \n",
       "51   00:00:10         00:00:10  DE (Germany)  \n",
       "49   00:45:14         00:45:14  DE (Germany)  \n",
       "109  00:09:19  Not latest view  DE (Germany)  \n",
       "81   00:22:26         00:22:26  DE (Germany)  \n",
       "74   00:43:08  Not latest view  DE (Germany)  \n",
       "162  00:44:47         00:44:47  DE (Germany)  \n",
       "107  00:10:48  Not latest view  DE (Germany)  \n",
       "40   00:46:51         00:46:51  DE (Germany)  \n",
       "138  00:51:00         00:51:00  DE (Germany)  \n",
       "56   00:00:07         00:00:07  DE (Germany)  "
      ]
     },
     "execution_count": 101,
     "metadata": {},
     "output_type": "execute_result"
    }
   ],
   "source": [
    "df.sample(10)"
   ]
  },
  {
   "cell_type": "code",
   "execution_count": 102,
   "id": "09eaf125-2ca5-4c05-a276-41f790f68824",
   "metadata": {
    "tags": []
   },
   "outputs": [
    {
     "data": {
      "text/plain": [
       "array(['Mom & Dad', 'Friends', 'Code & Dogs', 'Kids', 'Brother & Wife'],\n",
       "      dtype=object)"
      ]
     },
     "execution_count": 102,
     "metadata": {},
     "output_type": "execute_result"
    }
   ],
   "source": [
    "df[\"Profile Name\"].unique()"
   ]
  },
  {
   "cell_type": "code",
   "execution_count": 103,
   "id": "e4d135aa-30e0-4541-8208-508287a0b152",
   "metadata": {
    "tags": []
   },
   "outputs": [
    {
     "data": {
      "text/plain": [
       "array(['Samsung CE 2020 Nike-L UHD TV Smart TV', 'FireTV 4K Stick 2018',\n",
       "       'FireTV Stick 2016', 'Sky UK skyamidalade MVPD STB',\n",
       "       'Sky UK IP100 MVPD STB',\n",
       "       'Sony Sony Android TV 2018 M2 4K Smart TV',\n",
       "       'Apple iPad Pro 12.9 in 5th Gen (Wi-Fi/Cell) iPad',\n",
       "       'Sony Sony Android TV 2015 Smart TV',\n",
       "       'Sony CE Sony Android TV 2020 M5 Smart TV',\n",
       "       'Samsung CE 2019 Muse-L UHD TV Smart TV'], dtype=object)"
      ]
     },
     "execution_count": 103,
     "metadata": {},
     "output_type": "execute_result"
    }
   ],
   "source": [
    "df[\"Device Type\"].unique()"
   ]
  },
  {
   "cell_type": "code",
   "execution_count": 104,
   "id": "9531d2c9-bc87-495f-80ee-d1e3d904eae1",
   "metadata": {
    "tags": []
   },
   "outputs": [
    {
     "data": {
      "text/plain": [
       "Profile Name               object\n",
       "Start Time                 object\n",
       "Duration                   object\n",
       "Attributes                 object\n",
       "Title                      object\n",
       "Supplemental Video Type    object\n",
       "Device Type                object\n",
       "Bookmark                   object\n",
       "Latest Bookmark            object\n",
       "Country                    object\n",
       "dtype: object"
      ]
     },
     "execution_count": 104,
     "metadata": {},
     "output_type": "execute_result"
    }
   ],
   "source": [
    "df.dtypes"
   ]
  },
  {
   "cell_type": "code",
   "execution_count": 105,
   "id": "bd3e926b-4181-45ae-921b-abea78834010",
   "metadata": {
    "tags": []
   },
   "outputs": [
    {
     "data": {
      "text/plain": [
       "Profile Name                            object\n",
       "Start Time                 datetime64[ns, UTC]\n",
       "Duration                       timedelta64[ns]\n",
       "Attributes                              object\n",
       "Title                                   object\n",
       "Supplemental Video Type                 object\n",
       "Device Type                             object\n",
       "Bookmark                                object\n",
       "Latest Bookmark                         object\n",
       "Country                                 object\n",
       "dtype: object"
      ]
     },
     "execution_count": 105,
     "metadata": {},
     "output_type": "execute_result"
    }
   ],
   "source": [
    "df['Start Time'] = pd.to_datetime(df['Start Time'], utc=True)\n",
    "df['Duration'] = pd.to_timedelta(df['Duration'])\n",
    "df.dtypes"
   ]
  },
  {
   "cell_type": "code",
   "execution_count": 106,
   "id": "70cb3d0c-90c4-4ccb-983a-f272271f3060",
   "metadata": {
    "tags": []
   },
   "outputs": [
    {
     "data": {
      "text/html": [
       "<div>\n",
       "<style scoped>\n",
       "    .dataframe tbody tr th:only-of-type {\n",
       "        vertical-align: middle;\n",
       "    }\n",
       "\n",
       "    .dataframe tbody tr th {\n",
       "        vertical-align: top;\n",
       "    }\n",
       "\n",
       "    .dataframe thead th {\n",
       "        text-align: right;\n",
       "    }\n",
       "</style>\n",
       "<table border=\"1\" class=\"dataframe\">\n",
       "  <thead>\n",
       "    <tr style=\"text-align: right;\">\n",
       "      <th></th>\n",
       "      <th>Profile Name</th>\n",
       "      <th>Start Time</th>\n",
       "      <th>Duration</th>\n",
       "      <th>Attributes</th>\n",
       "      <th>Title</th>\n",
       "      <th>Supplemental Video Type</th>\n",
       "      <th>Device Type</th>\n",
       "      <th>Bookmark</th>\n",
       "      <th>Latest Bookmark</th>\n",
       "      <th>Country</th>\n",
       "    </tr>\n",
       "  </thead>\n",
       "  <tbody>\n",
       "    <tr>\n",
       "      <th>70</th>\n",
       "      <td>Code &amp; Dogs</td>\n",
       "      <td>2022-08-16 14:13:28+00:00</td>\n",
       "      <td>0 days 00:40:49</td>\n",
       "      <td>NaN</td>\n",
       "      <td>Keeping Up with the Kardashians: Staffel 7: Ge...</td>\n",
       "      <td>NaN</td>\n",
       "      <td>Apple iPad Pro 12.9 in 5th Gen (Wi-Fi/Cell) iPad</td>\n",
       "      <td>00:00:08</td>\n",
       "      <td>Not latest view</td>\n",
       "      <td>DE (Germany)</td>\n",
       "    </tr>\n",
       "    <tr>\n",
       "      <th>82</th>\n",
       "      <td>Kids</td>\n",
       "      <td>2021-08-28 16:27:19+00:00</td>\n",
       "      <td>0 days 00:22:28</td>\n",
       "      <td>NaN</td>\n",
       "      <td>DreamWorks Dragons: Auf zu neuen Ufern: Staffe...</td>\n",
       "      <td>NaN</td>\n",
       "      <td>Sony Sony Android TV 2015 Smart TV</td>\n",
       "      <td>00:22:29</td>\n",
       "      <td>Not latest view</td>\n",
       "      <td>DE (Germany)</td>\n",
       "    </tr>\n",
       "    <tr>\n",
       "      <th>138</th>\n",
       "      <td>Brother &amp; Wife</td>\n",
       "      <td>2022-02-03 10:56:59+00:00</td>\n",
       "      <td>0 days 00:33:41</td>\n",
       "      <td>NaN</td>\n",
       "      <td>The Witcher: Staffel 2: Familie (Folge 8)</td>\n",
       "      <td>NaN</td>\n",
       "      <td>Samsung CE 2019 Muse-L UHD TV Smart TV</td>\n",
       "      <td>00:51:00</td>\n",
       "      <td>00:51:00</td>\n",
       "      <td>DE (Germany)</td>\n",
       "    </tr>\n",
       "    <tr>\n",
       "      <th>9</th>\n",
       "      <td>Mom &amp; Dad</td>\n",
       "      <td>2022-09-26 17:32:06+00:00</td>\n",
       "      <td>0 days 00:00:09</td>\n",
       "      <td>Autoplayed: user action: None;</td>\n",
       "      <td>1939_hook_primary_16x9</td>\n",
       "      <td>HOOK</td>\n",
       "      <td>FireTV 4K Stick 2018</td>\n",
       "      <td>00:00:09</td>\n",
       "      <td>Not latest view</td>\n",
       "      <td>DE (Germany)</td>\n",
       "    </tr>\n",
       "    <tr>\n",
       "      <th>87</th>\n",
       "      <td>Kids</td>\n",
       "      <td>2021-08-27 16:21:37+00:00</td>\n",
       "      <td>0 days 00:10:51</td>\n",
       "      <td>NaN</td>\n",
       "      <td>DreamWorks Dragons: Auf zu neuen Ufern: Staffe...</td>\n",
       "      <td>NaN</td>\n",
       "      <td>Sony Sony Android TV 2015 Smart TV</td>\n",
       "      <td>00:22:15</td>\n",
       "      <td>Not latest view</td>\n",
       "      <td>DE (Germany)</td>\n",
       "    </tr>\n",
       "    <tr>\n",
       "      <th>116</th>\n",
       "      <td>Brother &amp; Wife</td>\n",
       "      <td>2022-02-06 07:48:59+00:00</td>\n",
       "      <td>0 days 00:34:20</td>\n",
       "      <td>Autoplayed: user action: User_Interaction;</td>\n",
       "      <td>All of Us Are Dead: Staffel 1: Folge 10 (Folge...</td>\n",
       "      <td>NaN</td>\n",
       "      <td>Samsung CE 2019 Muse-L UHD TV Smart TV</td>\n",
       "      <td>00:34:37</td>\n",
       "      <td>Not latest view</td>\n",
       "      <td>DE (Germany)</td>\n",
       "    </tr>\n",
       "    <tr>\n",
       "      <th>50</th>\n",
       "      <td>Code &amp; Dogs</td>\n",
       "      <td>2022-08-27 11:25:49+00:00</td>\n",
       "      <td>0 days 00:00:18</td>\n",
       "      <td>Autoplayed: user action: None;</td>\n",
       "      <td>Season 1 Teaser : Instant Dream Home</td>\n",
       "      <td>TEASER_TRAILER</td>\n",
       "      <td>FireTV 4K Stick 2018</td>\n",
       "      <td>00:00:18</td>\n",
       "      <td>00:00:18</td>\n",
       "      <td>DE (Germany)</td>\n",
       "    </tr>\n",
       "    <tr>\n",
       "      <th>26</th>\n",
       "      <td>Friends</td>\n",
       "      <td>2022-01-12 22:53:42+00:00</td>\n",
       "      <td>0 days 00:48:24</td>\n",
       "      <td>NaN</td>\n",
       "      <td>Der Kastanienmann: Staffel 1: Folge 6 (Folge 6)</td>\n",
       "      <td>NaN</td>\n",
       "      <td>Sky UK skyamidalade MVPD STB</td>\n",
       "      <td>00:49:05</td>\n",
       "      <td>00:49:05</td>\n",
       "      <td>DE (Germany)</td>\n",
       "    </tr>\n",
       "    <tr>\n",
       "      <th>63</th>\n",
       "      <td>Code &amp; Dogs</td>\n",
       "      <td>2022-08-21 13:59:23+00:00</td>\n",
       "      <td>0 days 00:00:17</td>\n",
       "      <td>NaN</td>\n",
       "      <td>Was Katzen denken</td>\n",
       "      <td>NaN</td>\n",
       "      <td>FireTV 4K Stick 2018</td>\n",
       "      <td>00:00:17</td>\n",
       "      <td>00:00:17</td>\n",
       "      <td>DE (Germany)</td>\n",
       "    </tr>\n",
       "    <tr>\n",
       "      <th>133</th>\n",
       "      <td>Brother &amp; Wife</td>\n",
       "      <td>2022-02-03 21:20:22+00:00</td>\n",
       "      <td>0 days 01:03:44</td>\n",
       "      <td>Autoplayed: user action: User_Interaction;</td>\n",
       "      <td>All of Us Are Dead: Staffel 1: Folge 2 (Folge 2)</td>\n",
       "      <td>NaN</td>\n",
       "      <td>Samsung CE 2019 Muse-L UHD TV Smart TV</td>\n",
       "      <td>01:03:53</td>\n",
       "      <td>01:03:53</td>\n",
       "      <td>DE (Germany)</td>\n",
       "    </tr>\n",
       "  </tbody>\n",
       "</table>\n",
       "</div>"
      ],
      "text/plain": [
       "       Profile Name                Start Time        Duration  \\\n",
       "70      Code & Dogs 2022-08-16 14:13:28+00:00 0 days 00:40:49   \n",
       "82             Kids 2021-08-28 16:27:19+00:00 0 days 00:22:28   \n",
       "138  Brother & Wife 2022-02-03 10:56:59+00:00 0 days 00:33:41   \n",
       "9         Mom & Dad 2022-09-26 17:32:06+00:00 0 days 00:00:09   \n",
       "87             Kids 2021-08-27 16:21:37+00:00 0 days 00:10:51   \n",
       "116  Brother & Wife 2022-02-06 07:48:59+00:00 0 days 00:34:20   \n",
       "50      Code & Dogs 2022-08-27 11:25:49+00:00 0 days 00:00:18   \n",
       "26          Friends 2022-01-12 22:53:42+00:00 0 days 00:48:24   \n",
       "63      Code & Dogs 2022-08-21 13:59:23+00:00 0 days 00:00:17   \n",
       "133  Brother & Wife 2022-02-03 21:20:22+00:00 0 days 01:03:44   \n",
       "\n",
       "                                      Attributes  \\\n",
       "70                                           NaN   \n",
       "82                                           NaN   \n",
       "138                                          NaN   \n",
       "9                Autoplayed: user action: None;    \n",
       "87                                           NaN   \n",
       "116  Autoplayed: user action: User_Interaction;    \n",
       "50               Autoplayed: user action: None;    \n",
       "26                                           NaN   \n",
       "63                                           NaN   \n",
       "133  Autoplayed: user action: User_Interaction;    \n",
       "\n",
       "                                                 Title  \\\n",
       "70   Keeping Up with the Kardashians: Staffel 7: Ge...   \n",
       "82   DreamWorks Dragons: Auf zu neuen Ufern: Staffe...   \n",
       "138          The Witcher: Staffel 2: Familie (Folge 8)   \n",
       "9                               1939_hook_primary_16x9   \n",
       "87   DreamWorks Dragons: Auf zu neuen Ufern: Staffe...   \n",
       "116  All of Us Are Dead: Staffel 1: Folge 10 (Folge...   \n",
       "50                Season 1 Teaser : Instant Dream Home   \n",
       "26     Der Kastanienmann: Staffel 1: Folge 6 (Folge 6)   \n",
       "63                                   Was Katzen denken   \n",
       "133   All of Us Are Dead: Staffel 1: Folge 2 (Folge 2)   \n",
       "\n",
       "    Supplemental Video Type                                       Device Type  \\\n",
       "70                      NaN  Apple iPad Pro 12.9 in 5th Gen (Wi-Fi/Cell) iPad   \n",
       "82                      NaN                Sony Sony Android TV 2015 Smart TV   \n",
       "138                     NaN            Samsung CE 2019 Muse-L UHD TV Smart TV   \n",
       "9                      HOOK                              FireTV 4K Stick 2018   \n",
       "87                      NaN                Sony Sony Android TV 2015 Smart TV   \n",
       "116                     NaN            Samsung CE 2019 Muse-L UHD TV Smart TV   \n",
       "50           TEASER_TRAILER                              FireTV 4K Stick 2018   \n",
       "26                      NaN                      Sky UK skyamidalade MVPD STB   \n",
       "63                      NaN                              FireTV 4K Stick 2018   \n",
       "133                     NaN            Samsung CE 2019 Muse-L UHD TV Smart TV   \n",
       "\n",
       "     Bookmark  Latest Bookmark       Country  \n",
       "70   00:00:08  Not latest view  DE (Germany)  \n",
       "82   00:22:29  Not latest view  DE (Germany)  \n",
       "138  00:51:00         00:51:00  DE (Germany)  \n",
       "9    00:00:09  Not latest view  DE (Germany)  \n",
       "87   00:22:15  Not latest view  DE (Germany)  \n",
       "116  00:34:37  Not latest view  DE (Germany)  \n",
       "50   00:00:18         00:00:18  DE (Germany)  \n",
       "26   00:49:05         00:49:05  DE (Germany)  \n",
       "63   00:00:17         00:00:17  DE (Germany)  \n",
       "133  01:03:53         01:03:53  DE (Germany)  "
      ]
     },
     "execution_count": 106,
     "metadata": {},
     "output_type": "execute_result"
    }
   ],
   "source": [
    "df.sample(10)"
   ]
  },
  {
   "cell_type": "code",
   "execution_count": 107,
   "id": "26748b04-3ac7-4a94-817d-5a53f2774f39",
   "metadata": {
    "tags": []
   },
   "outputs": [
    {
     "data": {
      "text/plain": [
       "Profile Name\n",
       "Brother & Wife    55\n",
       "Code & Dogs       40\n",
       "Kids              31\n",
       "Friends           22\n",
       "Mom & Dad         19\n",
       "Name: count, dtype: int64"
      ]
     },
     "execution_count": 107,
     "metadata": {},
     "output_type": "execute_result"
    }
   ],
   "source": [
    "df['Profile Name'].value_counts()"
   ]
  },
  {
   "cell_type": "code",
   "execution_count": 108,
   "id": "d2f6e212-119b-4f14-b353-ee8bdd9c1769",
   "metadata": {
    "tags": []
   },
   "outputs": [
    {
     "data": {
      "image/png": "[encoded data removed]",
      "text/plain": [
       "<Figure size 640x480 with 1 Axes>"
      ]
     },
     "metadata": {},
     "output_type": "display_data"
    }
   ],
   "source": [
    "%matplotlib inline\n",
    "import matplotlib\n",
    "import matplotlib.pyplot as plt\n",
    "df['Profile Name'].value_counts().plot(kind='bar')\n",
    "plt.show()"
   ]
  },
  {
   "cell_type": "code",
   "execution_count": 109,
   "id": "f4d36aa7-1ece-4fc1-9200-2fd0945b7b45",
   "metadata": {
    "tags": []
   },
   "outputs": [
    {
     "data": {
      "text/plain": [
       "Timedelta('2 days 06:16:44')"
      ]
     },
     "execution_count": 109,
     "metadata": {},
     "output_type": "execute_result"
    }
   ],
   "source": [
    "df[\"Duration\"].sum()"
   ]
  },
  {
   "cell_type": "code",
   "execution_count": 110,
   "id": "b747bf05-3a59-4b3b-8109-add1ce4b7d1b",
   "metadata": {
    "tags": []
   },
   "outputs": [
    {
     "data": {
      "text/html": [
       "<div>\n",
       "<style scoped>\n",
       "    .dataframe tbody tr th:only-of-type {\n",
       "        vertical-align: middle;\n",
       "    }\n",
       "\n",
       "    .dataframe tbody tr th {\n",
       "        vertical-align: top;\n",
       "    }\n",
       "\n",
       "    .dataframe thead th {\n",
       "        text-align: right;\n",
       "    }\n",
       "</style>\n",
       "<table border=\"1\" class=\"dataframe\">\n",
       "  <thead>\n",
       "    <tr style=\"text-align: right;\">\n",
       "      <th></th>\n",
       "      <th>Profile Name</th>\n",
       "      <th>Start Time</th>\n",
       "      <th>Duration</th>\n",
       "      <th>Attributes</th>\n",
       "      <th>Title</th>\n",
       "      <th>Supplemental Video Type</th>\n",
       "      <th>Device Type</th>\n",
       "      <th>Bookmark</th>\n",
       "      <th>Latest Bookmark</th>\n",
       "      <th>Country</th>\n",
       "    </tr>\n",
       "  </thead>\n",
       "  <tbody>\n",
       "    <tr>\n",
       "      <th>40</th>\n",
       "      <td>Friends</td>\n",
       "      <td>2020-06-06 18:27:04+00:00</td>\n",
       "      <td>0 days 00:46:51</td>\n",
       "      <td>Autoplayed: user action: Unspecified;</td>\n",
       "      <td>Haus des Geldes: Teil 1: Folge 1 (Folge 1)</td>\n",
       "      <td>NaN</td>\n",
       "      <td>Sony Sony Android TV 2018 M2 4K Smart TV</td>\n",
       "      <td>00:46:51</td>\n",
       "      <td>00:46:51</td>\n",
       "      <td>DE (Germany)</td>\n",
       "    </tr>\n",
       "    <tr>\n",
       "      <th>39</th>\n",
       "      <td>Friends</td>\n",
       "      <td>2020-06-06 19:13:59+00:00</td>\n",
       "      <td>0 days 00:39:21</td>\n",
       "      <td>Autoplayed: user action: None;</td>\n",
       "      <td>Haus des Geldes: Teil 1: Folge 2 (Folge 2)</td>\n",
       "      <td>NaN</td>\n",
       "      <td>Sony Sony Android TV 2018 M2 4K Smart TV</td>\n",
       "      <td>00:40:37</td>\n",
       "      <td>00:40:37</td>\n",
       "      <td>DE (Germany)</td>\n",
       "    </tr>\n",
       "    <tr>\n",
       "      <th>38</th>\n",
       "      <td>Friends</td>\n",
       "      <td>2020-06-08 18:00:17+00:00</td>\n",
       "      <td>0 days 00:49:11</td>\n",
       "      <td>Autoplayed: user action: Unspecified;</td>\n",
       "      <td>Haus des Geldes: Teil 1: Folge 3 (Folge 3)</td>\n",
       "      <td>NaN</td>\n",
       "      <td>Sony Sony Android TV 2018 M2 4K Smart TV</td>\n",
       "      <td>00:50:00</td>\n",
       "      <td>00:50:00</td>\n",
       "      <td>DE (Germany)</td>\n",
       "    </tr>\n",
       "    <tr>\n",
       "      <th>37</th>\n",
       "      <td>Friends</td>\n",
       "      <td>2020-06-08 18:49:32+00:00</td>\n",
       "      <td>0 days 00:49:51</td>\n",
       "      <td>Autoplayed: user action: Unspecified;</td>\n",
       "      <td>Haus des Geldes: Teil 1: Folge 4 (Folge 4)</td>\n",
       "      <td>NaN</td>\n",
       "      <td>Sony Sony Android TV 2018 M2 4K Smart TV</td>\n",
       "      <td>00:50:45</td>\n",
       "      <td>00:50:45</td>\n",
       "      <td>DE (Germany)</td>\n",
       "    </tr>\n",
       "    <tr>\n",
       "      <th>36</th>\n",
       "      <td>Friends</td>\n",
       "      <td>2020-06-08 19:39:27+00:00</td>\n",
       "      <td>0 days 00:00:04</td>\n",
       "      <td>Autoplayed: user action: None;</td>\n",
       "      <td>Haus des Geldes: Teil 1: Folge 5 (Folge 5)</td>\n",
       "      <td>NaN</td>\n",
       "      <td>Sony Sony Android TV 2018 M2 4K Smart TV</td>\n",
       "      <td>00:00:10</td>\n",
       "      <td>00:00:10</td>\n",
       "      <td>DE (Germany)</td>\n",
       "    </tr>\n",
       "    <tr>\n",
       "      <th>...</th>\n",
       "      <td>...</td>\n",
       "      <td>...</td>\n",
       "      <td>...</td>\n",
       "      <td>...</td>\n",
       "      <td>...</td>\n",
       "      <td>...</td>\n",
       "      <td>...</td>\n",
       "      <td>...</td>\n",
       "      <td>...</td>\n",
       "      <td>...</td>\n",
       "    </tr>\n",
       "    <tr>\n",
       "      <th>4</th>\n",
       "      <td>Mom &amp; Dad</td>\n",
       "      <td>2022-09-26 18:35:07+00:00</td>\n",
       "      <td>0 days 00:00:13</td>\n",
       "      <td>Autoplayed: user action: None;</td>\n",
       "      <td>Lou (Clip 5): Lou</td>\n",
       "      <td>HOOK</td>\n",
       "      <td>Samsung CE 2020 Nike-L UHD TV Smart TV</td>\n",
       "      <td>00:00:13</td>\n",
       "      <td>00:00:13</td>\n",
       "      <td>DE (Germany)</td>\n",
       "    </tr>\n",
       "    <tr>\n",
       "      <th>3</th>\n",
       "      <td>Mom &amp; Dad</td>\n",
       "      <td>2022-09-26 18:35:22+00:00</td>\n",
       "      <td>0 days 01:41:17</td>\n",
       "      <td>NaN</td>\n",
       "      <td>Lou</td>\n",
       "      <td>NaN</td>\n",
       "      <td>Samsung CE 2020 Nike-L UHD TV Smart TV</td>\n",
       "      <td>01:41:19</td>\n",
       "      <td>01:41:19</td>\n",
       "      <td>DE (Germany)</td>\n",
       "    </tr>\n",
       "    <tr>\n",
       "      <th>2</th>\n",
       "      <td>Mom &amp; Dad</td>\n",
       "      <td>2022-09-27 18:58:40+00:00</td>\n",
       "      <td>0 days 00:00:06</td>\n",
       "      <td>Autoplayed: user action: None;</td>\n",
       "      <td>A Jazzman's Blues (Clip): A Jazzman's Blues</td>\n",
       "      <td>HOOK</td>\n",
       "      <td>Samsung CE 2020 Nike-L UHD TV Smart TV</td>\n",
       "      <td>00:00:06</td>\n",
       "      <td>00:00:06</td>\n",
       "      <td>DE (Germany)</td>\n",
       "    </tr>\n",
       "    <tr>\n",
       "      <th>1</th>\n",
       "      <td>Mom &amp; Dad</td>\n",
       "      <td>2022-09-27 19:00:02+00:00</td>\n",
       "      <td>0 days 02:09:10</td>\n",
       "      <td>Autoplayed: user action: User_Interaction;</td>\n",
       "      <td>A Beautiful Mind – Genie und Wahnsinn</td>\n",
       "      <td>NaN</td>\n",
       "      <td>Samsung CE 2020 Nike-L UHD TV Smart TV</td>\n",
       "      <td>02:09:11</td>\n",
       "      <td>02:09:11</td>\n",
       "      <td>DE (Germany)</td>\n",
       "    </tr>\n",
       "    <tr>\n",
       "      <th>0</th>\n",
       "      <td>Mom &amp; Dad</td>\n",
       "      <td>2022-09-27 21:16:43+00:00</td>\n",
       "      <td>0 days 00:00:13</td>\n",
       "      <td>Autoplayed: user action: None;</td>\n",
       "      <td>Die Strafe Gottes (Clip): Die Strafe Gottes</td>\n",
       "      <td>HOOK</td>\n",
       "      <td>Samsung CE 2020 Nike-L UHD TV Smart TV</td>\n",
       "      <td>00:00:13</td>\n",
       "      <td>00:00:13</td>\n",
       "      <td>DE (Germany)</td>\n",
       "    </tr>\n",
       "  </tbody>\n",
       "</table>\n",
       "<p>167 rows × 10 columns</p>\n",
       "</div>"
      ],
      "text/plain": [
       "   Profile Name                Start Time        Duration  \\\n",
       "40      Friends 2020-06-06 18:27:04+00:00 0 days 00:46:51   \n",
       "39      Friends 2020-06-06 19:13:59+00:00 0 days 00:39:21   \n",
       "38      Friends 2020-06-08 18:00:17+00:00 0 days 00:49:11   \n",
       "37      Friends 2020-06-08 18:49:32+00:00 0 days 00:49:51   \n",
       "36      Friends 2020-06-08 19:39:27+00:00 0 days 00:00:04   \n",
       "..          ...                       ...             ...   \n",
       "4     Mom & Dad 2022-09-26 18:35:07+00:00 0 days 00:00:13   \n",
       "3     Mom & Dad 2022-09-26 18:35:22+00:00 0 days 01:41:17   \n",
       "2     Mom & Dad 2022-09-27 18:58:40+00:00 0 days 00:00:06   \n",
       "1     Mom & Dad 2022-09-27 19:00:02+00:00 0 days 02:09:10   \n",
       "0     Mom & Dad 2022-09-27 21:16:43+00:00 0 days 00:00:13   \n",
       "\n",
       "                                     Attributes  \\\n",
       "40       Autoplayed: user action: Unspecified;    \n",
       "39              Autoplayed: user action: None;    \n",
       "38       Autoplayed: user action: Unspecified;    \n",
       "37       Autoplayed: user action: Unspecified;    \n",
       "36              Autoplayed: user action: None;    \n",
       "..                                          ...   \n",
       "4               Autoplayed: user action: None;    \n",
       "3                                           NaN   \n",
       "2               Autoplayed: user action: None;    \n",
       "1   Autoplayed: user action: User_Interaction;    \n",
       "0               Autoplayed: user action: None;    \n",
       "\n",
       "                                          Title Supplemental Video Type  \\\n",
       "40   Haus des Geldes: Teil 1: Folge 1 (Folge 1)                     NaN   \n",
       "39   Haus des Geldes: Teil 1: Folge 2 (Folge 2)                     NaN   \n",
       "38   Haus des Geldes: Teil 1: Folge 3 (Folge 3)                     NaN   \n",
       "37   Haus des Geldes: Teil 1: Folge 4 (Folge 4)                     NaN   \n",
       "36   Haus des Geldes: Teil 1: Folge 5 (Folge 5)                     NaN   \n",
       "..                                          ...                     ...   \n",
       "4                             Lou (Clip 5): Lou                    HOOK   \n",
       "3                                           Lou                     NaN   \n",
       "2   A Jazzman's Blues (Clip): A Jazzman's Blues                    HOOK   \n",
       "1         A Beautiful Mind – Genie und Wahnsinn                     NaN   \n",
       "0   Die Strafe Gottes (Clip): Die Strafe Gottes                    HOOK   \n",
       "\n",
       "                                 Device Type  Bookmark Latest Bookmark  \\\n",
       "40  Sony Sony Android TV 2018 M2 4K Smart TV  00:46:51        00:46:51   \n",
       "39  Sony Sony Android TV 2018 M2 4K Smart TV  00:40:37        00:40:37   \n",
       "38  Sony Sony Android TV 2018 M2 4K Smart TV  00:50:00        00:50:00   \n",
       "37  Sony Sony Android TV 2018 M2 4K Smart TV  00:50:45        00:50:45   \n",
       "36  Sony Sony Android TV 2018 M2 4K Smart TV  00:00:10        00:00:10   \n",
       "..                                       ...       ...             ...   \n",
       "4     Samsung CE 2020 Nike-L UHD TV Smart TV  00:00:13        00:00:13   \n",
       "3     Samsung CE 2020 Nike-L UHD TV Smart TV  01:41:19        01:41:19   \n",
       "2     Samsung CE 2020 Nike-L UHD TV Smart TV  00:00:06        00:00:06   \n",
       "1     Samsung CE 2020 Nike-L UHD TV Smart TV  02:09:11        02:09:11   \n",
       "0     Samsung CE 2020 Nike-L UHD TV Smart TV  00:00:13        00:00:13   \n",
       "\n",
       "         Country  \n",
       "40  DE (Germany)  \n",
       "39  DE (Germany)  \n",
       "38  DE (Germany)  \n",
       "37  DE (Germany)  \n",
       "36  DE (Germany)  \n",
       "..           ...  \n",
       "4   DE (Germany)  \n",
       "3   DE (Germany)  \n",
       "2   DE (Germany)  \n",
       "1   DE (Germany)  \n",
       "0   DE (Germany)  \n",
       "\n",
       "[167 rows x 10 columns]"
      ]
     },
     "execution_count": 110,
     "metadata": {},
     "output_type": "execute_result"
    }
   ],
   "source": [
    "df.sort_values('Start Time')"
   ]
  },
  {
   "cell_type": "code",
   "execution_count": 111,
   "id": "0537715c-3b84-4229-b8ad-6bb81aa867c9",
   "metadata": {
    "tags": []
   },
   "outputs": [
    {
     "data": {
      "text/plain": [
       "Timedelta('0 days 11:34:44')"
      ]
     },
     "execution_count": 111,
     "metadata": {},
     "output_type": "execute_result"
    }
   ],
   "source": [
    "df.loc[df['Profile Name']=='Code & Dogs','Duration'].sum()"
   ]
  },
  {
   "cell_type": "code",
   "execution_count": 112,
   "id": "0d28b02d-9881-4ec8-ae1f-aff09957c198",
   "metadata": {
    "tags": []
   },
   "outputs": [
    {
     "data": {
      "text/plain": [
       "Timedelta('0 days 03:53:03')"
      ]
     },
     "execution_count": 112,
     "metadata": {},
     "output_type": "execute_result"
    }
   ],
   "source": [
    "df.loc[df['Profile Name']=='Mom & Dad','Duration'].sum()"
   ]
  },
  {
   "cell_type": "code",
   "execution_count": 113,
   "id": "0b1a16d9-c02e-4491-9039-8ec3c562494a",
   "metadata": {
    "tags": []
   },
   "outputs": [
    {
     "data": {
      "text/plain": [
       "Timedelta('0 days 04:53:38')"
      ]
     },
     "execution_count": 113,
     "metadata": {},
     "output_type": "execute_result"
    }
   ],
   "source": [
    "df.loc[df['Profile Name']=='Kids','Duration'].sum()"
   ]
  },
  {
   "cell_type": "code",
   "execution_count": 114,
   "id": "e46f7e58-8b89-47ea-a86a-c3df93e78b7c",
   "metadata": {
    "tags": []
   },
   "outputs": [
    {
     "data": {
      "text/plain": [
       "Timedelta('0 days 22:51:37')"
      ]
     },
     "execution_count": 114,
     "metadata": {},
     "output_type": "execute_result"
    }
   ],
   "source": [
    "df.loc[df['Profile Name']=='Brother & Wife','Duration'].sum()"
   ]
  },
  {
   "cell_type": "code",
   "execution_count": 115,
   "id": "d02eb239-5fbf-418d-9e16-06f1260ae077",
   "metadata": {
    "tags": []
   },
   "outputs": [
    {
     "data": {
      "text/plain": [
       "Timedelta('0 days 11:03:42')"
      ]
     },
     "execution_count": 115,
     "metadata": {},
     "output_type": "execute_result"
    }
   ],
   "source": [
    "df.loc[df['Profile Name']=='Friends','Duration'].sum()"
   ]
  },
  {
   "cell_type": "code",
   "execution_count": 116,
   "id": "17716110-beb7-4640-8e0a-79b8886c39df",
   "metadata": {
    "tags": []
   },
   "outputs": [
    {
     "name": "stdout",
     "output_type": "stream",
     "text": [
      "41684.0\n"
     ]
    }
   ],
   "source": [
    "import pandas as pd\n",
    "\n",
    "# Assuming df is your DataFrame\n",
    "\n",
    "# Convert the 'Duration' column to timedelta and then get the sum in seconds\n",
    "total_seconds = df.loc[df['Profile Name'] == 'Code & Dogs', 'Duration'].dt.total_seconds().sum()\n",
    "print(total_seconds)\n"
   ]
  },
  {
   "cell_type": "code",
   "execution_count": 117,
   "id": "82537870-34c2-4337-830e-9c0ed0d6ad5e",
   "metadata": {
    "tags": []
   },
   "outputs": [
    {
     "data": {
      "text/plain": [
       "{'Code & Dogs': Timedelta('0 days 11:34:44'),\n",
       " 'Mom & Dad': Timedelta('0 days 03:53:03'),\n",
       " 'Kids': Timedelta('0 days 04:53:38'),\n",
       " 'Brother & Wife': Timedelta('0 days 22:51:37'),\n",
       " 'Friends': Timedelta('0 days 11:03:42')}"
      ]
     },
     "execution_count": 117,
     "metadata": {},
     "output_type": "execute_result"
    }
   ],
   "source": [
    "viewTime = {}\n",
    "viewTime.update({\"Code & Dogs\": df.loc[df['Profile Name']=='Code & Dogs','Duration'].astype('timedelta64[s]').sum()})\n",
    "viewTime.update({\"Mom & Dad\": df.loc[df['Profile Name']=='Mom & Dad','Duration'].astype('timedelta64[s]').sum()})\n",
    "viewTime.update({\"Kids\": df.loc[df['Profile Name']=='Kids','Duration'].astype('timedelta64[s]').sum()})\n",
    "viewTime.update({\"Brother & Wife\": df.loc[df['Profile Name']=='Brother & Wife','Duration'].astype('timedelta64[s]').sum()})\n",
    "viewTime.update({\"Friends\": df.loc[df['Profile Name']=='Friends','Duration'].astype('timedelta64[s]').sum()})\n",
    "viewTime"
   ]
  },
  {
   "cell_type": "code",
   "execution_count": 118,
   "id": "00ae2a11-85c6-4370-a5b1-daf53567cb1d",
   "metadata": {
    "tags": []
   },
   "outputs": [
    {
     "data": {
      "image/png": "[encoded data removed]",
      "text/plain": [
       "<Figure size 640x480 with 1 Axes>"
      ]
     },
     "metadata": {},
     "output_type": "display_data"
    }
   ],
   "source": [
    "import matplotlib.pyplot as plt\n",
    "\n",
    "# Assuming viewTime is a dictionary where keys are x-values and values are Timedelta objects\n",
    "# Convert Timedelta to numeric values (e.g., seconds) for plotting\n",
    "viewTime_numeric = {key: value.total_seconds() for key, value in viewTime.items()}\n",
    "\n",
    "plt.bar(*zip(*viewTime_numeric.items()))\n",
    "plt.show()"
   ]
  },
  {
   "cell_type": "code",
   "execution_count": 119,
   "id": "62b19802-39bf-4c9a-b28c-d8eaaa2d8984",
   "metadata": {
    "tags": []
   },
   "outputs": [
    {
     "data": {
      "text/plain": [
       "Profile Name\n",
       "Brother & Wife    55\n",
       "Code & Dogs       40\n",
       "Kids              31\n",
       "Friends           22\n",
       "Mom & Dad         19\n",
       "Name: count, dtype: int64"
      ]
     },
     "execution_count": 119,
     "metadata": {},
     "output_type": "execute_result"
    }
   ],
   "source": [
    "df['Profile Name'].value_counts()"
   ]
  },
  {
   "cell_type": "code",
   "execution_count": 120,
   "id": "29146206-6a26-4cef-ad09-b386f7c0b69f",
   "metadata": {
    "tags": []
   },
   "outputs": [
    {
     "data": {
      "text/plain": [
       "Timedelta('0 days 00:12:37.890909090')"
      ]
     },
     "execution_count": 120,
     "metadata": {},
     "output_type": "execute_result"
    }
   ],
   "source": [
    "df.loc[df['Profile Name']=='Code & Dogs','Duration'].sum()/55"
   ]
  },
  {
   "cell_type": "code",
   "execution_count": 121,
   "id": "bf57dbdc-cd7a-4def-b367-7896ae400df1",
   "metadata": {
    "tags": []
   },
   "outputs": [
    {
     "data": {
      "text/plain": [
       "Timedelta('0 days 00:07:20.450000')"
      ]
     },
     "execution_count": 121,
     "metadata": {},
     "output_type": "execute_result"
    }
   ],
   "source": [
    "df.loc[df['Profile Name']=='Kids','Duration'].sum()/40"
   ]
  },
  {
   "cell_type": "code",
   "execution_count": 122,
   "id": "ebcb1dac-1c59-4a55-9fb1-876b8c8c9827",
   "metadata": {
    "tags": []
   },
   "outputs": [
    {
     "data": {
      "text/plain": [
       "Timedelta('0 days 00:44:14.741935483')"
      ]
     },
     "execution_count": 122,
     "metadata": {},
     "output_type": "execute_result"
    }
   ],
   "source": [
    "df.loc[df['Profile Name']=='Brother & Wife','Duration'].sum()/31"
   ]
  },
  {
   "cell_type": "code",
   "execution_count": 123,
   "id": "1b1b16c1-349f-4c9a-9c31-43e7985a848b",
   "metadata": {
    "tags": []
   },
   "outputs": [
    {
     "data": {
      "text/plain": [
       "Timedelta('0 days 00:10:35.590909090')"
      ]
     },
     "execution_count": 123,
     "metadata": {},
     "output_type": "execute_result"
    }
   ],
   "source": [
    "df.loc[df['Profile Name']=='Mom & Dad','Duration'].sum()/22"
   ]
  },
  {
   "cell_type": "code",
   "execution_count": 124,
   "id": "0dcfbaf8-b525-47b5-b605-da3e095ad5b1",
   "metadata": {
    "tags": []
   },
   "outputs": [
    {
     "data": {
      "text/plain": [
       "Timedelta('0 days 00:34:55.894736842')"
      ]
     },
     "execution_count": 124,
     "metadata": {},
     "output_type": "execute_result"
    }
   ],
   "source": [
    "df.loc[df['Profile Name']=='Friends','Duration'].sum()/19"
   ]
  },
  {
   "cell_type": "code",
   "execution_count": 125,
   "id": "af483edf-39bd-4373-ad06-c3d33c1f1bb9",
   "metadata": {
    "tags": []
   },
   "outputs": [
    {
     "data": {
      "text/plain": [
       "Supplemental Video Type\n",
       "HOOK              24\n",
       "TRAILER           16\n",
       "TEASER_TRAILER     4\n",
       "Name: count, dtype: int64"
      ]
     },
     "execution_count": 125,
     "metadata": {},
     "output_type": "execute_result"
    }
   ],
   "source": [
    "df['Supplemental Video Type'].value_counts()"
   ]
  },
  {
   "cell_type": "code",
   "execution_count": 126,
   "id": "18ac54b1-adcb-402d-b2f3-cff5570bc41f",
   "metadata": {
    "tags": []
   },
   "outputs": [
    {
     "data": {
      "text/html": [
       "<div>\n",
       "<style scoped>\n",
       "    .dataframe tbody tr th:only-of-type {\n",
       "        vertical-align: middle;\n",
       "    }\n",
       "\n",
       "    .dataframe tbody tr th {\n",
       "        vertical-align: top;\n",
       "    }\n",
       "\n",
       "    .dataframe thead th {\n",
       "        text-align: right;\n",
       "    }\n",
       "</style>\n",
       "<table border=\"1\" class=\"dataframe\">\n",
       "  <thead>\n",
       "    <tr style=\"text-align: right;\">\n",
       "      <th></th>\n",
       "      <th>Profile Name</th>\n",
       "      <th>Start Time</th>\n",
       "      <th>Duration</th>\n",
       "      <th>Attributes</th>\n",
       "      <th>Title</th>\n",
       "      <th>Supplemental Video Type</th>\n",
       "      <th>Device Type</th>\n",
       "      <th>Bookmark</th>\n",
       "      <th>Latest Bookmark</th>\n",
       "      <th>Country</th>\n",
       "    </tr>\n",
       "  </thead>\n",
       "  <tbody>\n",
       "    <tr>\n",
       "      <th>1</th>\n",
       "      <td>Mom &amp; Dad</td>\n",
       "      <td>2022-09-27 19:00:02+00:00</td>\n",
       "      <td>0 days 02:09:10</td>\n",
       "      <td>Autoplayed: user action: User_Interaction;</td>\n",
       "      <td>A Beautiful Mind – Genie und Wahnsinn</td>\n",
       "      <td>NaN</td>\n",
       "      <td>Samsung CE 2020 Nike-L UHD TV Smart TV</td>\n",
       "      <td>02:09:11</td>\n",
       "      <td>02:09:11</td>\n",
       "      <td>DE (Germany)</td>\n",
       "    </tr>\n",
       "    <tr>\n",
       "      <th>3</th>\n",
       "      <td>Mom &amp; Dad</td>\n",
       "      <td>2022-09-26 18:35:22+00:00</td>\n",
       "      <td>0 days 01:41:17</td>\n",
       "      <td>NaN</td>\n",
       "      <td>Lou</td>\n",
       "      <td>NaN</td>\n",
       "      <td>Samsung CE 2020 Nike-L UHD TV Smart TV</td>\n",
       "      <td>01:41:19</td>\n",
       "      <td>01:41:19</td>\n",
       "      <td>DE (Germany)</td>\n",
       "    </tr>\n",
       "    <tr>\n",
       "      <th>12</th>\n",
       "      <td>Mom &amp; Dad</td>\n",
       "      <td>2022-09-26 17:31:38+00:00</td>\n",
       "      <td>0 days 00:00:01</td>\n",
       "      <td>Autoplayed: user action: None;</td>\n",
       "      <td>Mucize – Wunder</td>\n",
       "      <td>NaN</td>\n",
       "      <td>FireTV 4K Stick 2018</td>\n",
       "      <td>00:00:01</td>\n",
       "      <td>00:00:01</td>\n",
       "      <td>DE (Germany)</td>\n",
       "    </tr>\n",
       "    <tr>\n",
       "      <th>17</th>\n",
       "      <td>Mom &amp; Dad</td>\n",
       "      <td>2022-09-26 17:30:12+00:00</td>\n",
       "      <td>0 days 00:00:02</td>\n",
       "      <td>Autoplayed: user action: None;</td>\n",
       "      <td>Das perfekte Verbrechen</td>\n",
       "      <td>NaN</td>\n",
       "      <td>FireTV 4K Stick 2018</td>\n",
       "      <td>00:00:02</td>\n",
       "      <td>00:00:02</td>\n",
       "      <td>DE (Germany)</td>\n",
       "    </tr>\n",
       "    <tr>\n",
       "      <th>21</th>\n",
       "      <td>Friends</td>\n",
       "      <td>2022-02-24 20:55:12+00:00</td>\n",
       "      <td>0 days 00:41:49</td>\n",
       "      <td>NaN</td>\n",
       "      <td>Kitz: Season 1: Aus der Spur (Folge 3)</td>\n",
       "      <td>NaN</td>\n",
       "      <td>Sky UK IP100 MVPD STB</td>\n",
       "      <td>00:41:54</td>\n",
       "      <td>00:41:54</td>\n",
       "      <td>DE (Germany)</td>\n",
       "    </tr>\n",
       "    <tr>\n",
       "      <th>...</th>\n",
       "      <td>...</td>\n",
       "      <td>...</td>\n",
       "      <td>...</td>\n",
       "      <td>...</td>\n",
       "      <td>...</td>\n",
       "      <td>...</td>\n",
       "      <td>...</td>\n",
       "      <td>...</td>\n",
       "      <td>...</td>\n",
       "      <td>...</td>\n",
       "    </tr>\n",
       "    <tr>\n",
       "      <th>162</th>\n",
       "      <td>Brother &amp; Wife</td>\n",
       "      <td>2022-01-28 10:58:12+00:00</td>\n",
       "      <td>0 days 00:44:41</td>\n",
       "      <td>Autoplayed: user action: User_Interaction;</td>\n",
       "      <td>The Witcher: Staffel 1: Vor dem Fall (Folge 7)</td>\n",
       "      <td>NaN</td>\n",
       "      <td>Samsung CE 2019 Muse-L UHD TV Smart TV</td>\n",
       "      <td>00:44:47</td>\n",
       "      <td>00:44:47</td>\n",
       "      <td>DE (Germany)</td>\n",
       "    </tr>\n",
       "    <tr>\n",
       "      <th>163</th>\n",
       "      <td>Brother &amp; Wife</td>\n",
       "      <td>2022-01-28 10:55:47+00:00</td>\n",
       "      <td>0 days 00:02:22</td>\n",
       "      <td>Autoplayed: user action: User_Interaction;</td>\n",
       "      <td>The Witcher: Staffel 1: Seltene Arten (Folge 6)</td>\n",
       "      <td>NaN</td>\n",
       "      <td>Samsung CE 2019 Muse-L UHD TV Smart TV</td>\n",
       "      <td>00:57:08</td>\n",
       "      <td>00:57:08</td>\n",
       "      <td>DE (Germany)</td>\n",
       "    </tr>\n",
       "    <tr>\n",
       "      <th>164</th>\n",
       "      <td>Brother &amp; Wife</td>\n",
       "      <td>2022-01-28 07:24:09+00:00</td>\n",
       "      <td>0 days 00:54:47</td>\n",
       "      <td>Autoplayed: user action: User_Interaction;</td>\n",
       "      <td>The Witcher: Staffel 1: Seltene Arten (Folge 6)</td>\n",
       "      <td>NaN</td>\n",
       "      <td>Samsung CE 2019 Muse-L UHD TV Smart TV</td>\n",
       "      <td>00:54:47</td>\n",
       "      <td>Not latest view</td>\n",
       "      <td>DE (Germany)</td>\n",
       "    </tr>\n",
       "    <tr>\n",
       "      <th>165</th>\n",
       "      <td>Brother &amp; Wife</td>\n",
       "      <td>2022-01-27 22:18:47+00:00</td>\n",
       "      <td>0 days 00:56:28</td>\n",
       "      <td>NaN</td>\n",
       "      <td>The Witcher: Staffel 1: Aufgestaute Begehren (...</td>\n",
       "      <td>NaN</td>\n",
       "      <td>Samsung CE 2019 Muse-L UHD TV Smart TV</td>\n",
       "      <td>00:56:36</td>\n",
       "      <td>00:56:36</td>\n",
       "      <td>DE (Germany)</td>\n",
       "    </tr>\n",
       "    <tr>\n",
       "      <th>166</th>\n",
       "      <td>Brother &amp; Wife</td>\n",
       "      <td>2022-01-27 21:08:23+00:00</td>\n",
       "      <td>0 days 00:59:32</td>\n",
       "      <td>Autoplayed: user action: User_Interaction;</td>\n",
       "      <td>The Witcher: Staffel 1: Bankette, Bastarde und...</td>\n",
       "      <td>NaN</td>\n",
       "      <td>Samsung CE 2019 Muse-L UHD TV Smart TV</td>\n",
       "      <td>00:59:39</td>\n",
       "      <td>00:59:39</td>\n",
       "      <td>DE (Germany)</td>\n",
       "    </tr>\n",
       "  </tbody>\n",
       "</table>\n",
       "<p>123 rows × 10 columns</p>\n",
       "</div>"
      ],
      "text/plain": [
       "       Profile Name                Start Time        Duration  \\\n",
       "1         Mom & Dad 2022-09-27 19:00:02+00:00 0 days 02:09:10   \n",
       "3         Mom & Dad 2022-09-26 18:35:22+00:00 0 days 01:41:17   \n",
       "12        Mom & Dad 2022-09-26 17:31:38+00:00 0 days 00:00:01   \n",
       "17        Mom & Dad 2022-09-26 17:30:12+00:00 0 days 00:00:02   \n",
       "21          Friends 2022-02-24 20:55:12+00:00 0 days 00:41:49   \n",
       "..              ...                       ...             ...   \n",
       "162  Brother & Wife 2022-01-28 10:58:12+00:00 0 days 00:44:41   \n",
       "163  Brother & Wife 2022-01-28 10:55:47+00:00 0 days 00:02:22   \n",
       "164  Brother & Wife 2022-01-28 07:24:09+00:00 0 days 00:54:47   \n",
       "165  Brother & Wife 2022-01-27 22:18:47+00:00 0 days 00:56:28   \n",
       "166  Brother & Wife 2022-01-27 21:08:23+00:00 0 days 00:59:32   \n",
       "\n",
       "                                      Attributes  \\\n",
       "1    Autoplayed: user action: User_Interaction;    \n",
       "3                                            NaN   \n",
       "12               Autoplayed: user action: None;    \n",
       "17               Autoplayed: user action: None;    \n",
       "21                                           NaN   \n",
       "..                                           ...   \n",
       "162  Autoplayed: user action: User_Interaction;    \n",
       "163  Autoplayed: user action: User_Interaction;    \n",
       "164  Autoplayed: user action: User_Interaction;    \n",
       "165                                          NaN   \n",
       "166  Autoplayed: user action: User_Interaction;    \n",
       "\n",
       "                                                 Title  \\\n",
       "1                A Beautiful Mind – Genie und Wahnsinn   \n",
       "3                                                  Lou   \n",
       "12                                     Mucize – Wunder   \n",
       "17                             Das perfekte Verbrechen   \n",
       "21              Kitz: Season 1: Aus der Spur (Folge 3)   \n",
       "..                                                 ...   \n",
       "162     The Witcher: Staffel 1: Vor dem Fall (Folge 7)   \n",
       "163    The Witcher: Staffel 1: Seltene Arten (Folge 6)   \n",
       "164    The Witcher: Staffel 1: Seltene Arten (Folge 6)   \n",
       "165  The Witcher: Staffel 1: Aufgestaute Begehren (...   \n",
       "166  The Witcher: Staffel 1: Bankette, Bastarde und...   \n",
       "\n",
       "    Supplemental Video Type                             Device Type  Bookmark  \\\n",
       "1                       NaN  Samsung CE 2020 Nike-L UHD TV Smart TV  02:09:11   \n",
       "3                       NaN  Samsung CE 2020 Nike-L UHD TV Smart TV  01:41:19   \n",
       "12                      NaN                    FireTV 4K Stick 2018  00:00:01   \n",
       "17                      NaN                    FireTV 4K Stick 2018  00:00:02   \n",
       "21                      NaN                   Sky UK IP100 MVPD STB  00:41:54   \n",
       "..                      ...                                     ...       ...   \n",
       "162                     NaN  Samsung CE 2019 Muse-L UHD TV Smart TV  00:44:47   \n",
       "163                     NaN  Samsung CE 2019 Muse-L UHD TV Smart TV  00:57:08   \n",
       "164                     NaN  Samsung CE 2019 Muse-L UHD TV Smart TV  00:54:47   \n",
       "165                     NaN  Samsung CE 2019 Muse-L UHD TV Smart TV  00:56:36   \n",
       "166                     NaN  Samsung CE 2019 Muse-L UHD TV Smart TV  00:59:39   \n",
       "\n",
       "     Latest Bookmark       Country  \n",
       "1           02:09:11  DE (Germany)  \n",
       "3           01:41:19  DE (Germany)  \n",
       "12          00:00:01  DE (Germany)  \n",
       "17          00:00:02  DE (Germany)  \n",
       "21          00:41:54  DE (Germany)  \n",
       "..               ...           ...  \n",
       "162         00:44:47  DE (Germany)  \n",
       "163         00:57:08  DE (Germany)  \n",
       "164  Not latest view  DE (Germany)  \n",
       "165         00:56:36  DE (Germany)  \n",
       "166         00:59:39  DE (Germany)  \n",
       "\n",
       "[123 rows x 10 columns]"
      ]
     },
     "execution_count": 126,
     "metadata": {},
     "output_type": "execute_result"
    }
   ],
   "source": [
    "df.loc[df['Supplemental Video Type'].isnull()]"
   ]
  },
  {
   "cell_type": "code",
   "execution_count": 127,
   "id": "cb9c66c6-9f10-4e4f-ab9f-43c311d6234f",
   "metadata": {
    "tags": []
   },
   "outputs": [
    {
     "data": {
      "text/plain": [
       "Profile Name\n",
       "Brother & Wife    55\n",
       "Code & Dogs       40\n",
       "Kids              31\n",
       "Friends           22\n",
       "Mom & Dad         19\n",
       "Name: count, dtype: int64"
      ]
     },
     "execution_count": 127,
     "metadata": {},
     "output_type": "execute_result"
    }
   ],
   "source": [
    "df['Profile Name'].value_counts()"
   ]
  },
  {
   "cell_type": "code",
   "execution_count": 128,
   "id": "5f76bb38-a6d3-4569-a45f-37998fd855f7",
   "metadata": {
    "tags": []
   },
   "outputs": [
    {
     "data": {
      "text/plain": [
       "Timedelta('0 days 00:12:37.890909090')"
      ]
     },
     "execution_count": 128,
     "metadata": {},
     "output_type": "execute_result"
    }
   ],
   "source": [
    "df.loc[df['Profile Name']=='Code & Dogs','Duration'].sum()/55"
   ]
  },
  {
   "cell_type": "code",
   "execution_count": 129,
   "id": "6df5af1a-9372-4789-94ae-d532ae286bc7",
   "metadata": {
    "tags": []
   },
   "outputs": [
    {
     "data": {
      "text/plain": [
       "Timedelta('0 days 00:07:20.450000')"
      ]
     },
     "execution_count": 129,
     "metadata": {},
     "output_type": "execute_result"
    }
   ],
   "source": [
    "df.loc[df['Profile Name']=='Kids','Duration'].sum()/40"
   ]
  },
  {
   "cell_type": "code",
   "execution_count": 130,
   "id": "520d1ca6-7264-443c-b7e9-c7151bfe1060",
   "metadata": {
    "tags": []
   },
   "outputs": [
    {
     "data": {
      "text/plain": [
       "Timedelta('0 days 00:44:14.741935483')"
      ]
     },
     "execution_count": 130,
     "metadata": {},
     "output_type": "execute_result"
    }
   ],
   "source": [
    "df.loc[df['Profile Name']=='Brother & Wife','Duration'].sum()/31"
   ]
  },
  {
   "cell_type": "code",
   "execution_count": 131,
   "id": "524a30da-3658-480d-ac95-a5e43ea46f64",
   "metadata": {
    "tags": []
   },
   "outputs": [
    {
     "data": {
      "text/plain": [
       "Timedelta('0 days 00:10:35.590909090')"
      ]
     },
     "execution_count": 131,
     "metadata": {},
     "output_type": "execute_result"
    }
   ],
   "source": [
    "df.loc[df['Profile Name']=='Mom & Dad','Duration'].sum()/22"
   ]
  },
  {
   "cell_type": "code",
   "execution_count": 132,
   "id": "b04460dc-3143-45cd-b2fa-95e8fc15996d",
   "metadata": {
    "tags": []
   },
   "outputs": [
    {
     "data": {
      "text/plain": [
       "Timedelta('0 days 00:34:55.894736842')"
      ]
     },
     "execution_count": 132,
     "metadata": {},
     "output_type": "execute_result"
    }
   ],
   "source": [
    "df.loc[df['Profile Name']=='Friends','Duration'].sum()/19"
   ]
  },
  {
   "cell_type": "code",
   "execution_count": 133,
   "id": "d0d6d152-5067-4be5-b5cf-2663597f896c",
   "metadata": {
    "tags": []
   },
   "outputs": [
    {
     "data": {
      "text/plain": [
       "Device Type\n",
       "Samsung CE 2019 Muse-L UHD TV Smart TV              63\n",
       "FireTV 4K Stick 2018                                35\n",
       "Apple iPad Pro 12.9 in 5th Gen (Wi-Fi/Cell) iPad    19\n",
       "Sony Sony Android TV 2015 Smart TV                  16\n",
       "Sky UK skyamidalade MVPD STB                         8\n",
       "Sony Sony Android TV 2018 M2 4K Smart TV             7\n",
       "Sony CE Sony Android TV 2020 M5 Smart TV             7\n",
       "Sky UK IP100 MVPD STB                                6\n",
       "Samsung CE 2020 Nike-L UHD TV Smart TV               5\n",
       "FireTV Stick 2016                                    1\n",
       "Name: count, dtype: int64"
      ]
     },
     "execution_count": 133,
     "metadata": {},
     "output_type": "execute_result"
    }
   ],
   "source": [
    "df['Device Type'].value_counts()"
   ]
  },
  {
   "cell_type": "code",
   "execution_count": 134,
   "id": "e274482a-bbc5-4291-a414-e25c0dd51bc4",
   "metadata": {
    "tags": []
   },
   "outputs": [
    {
     "data": {
      "image/png": "[encoded data removed]",
      "text/plain": [
       "<Figure size 640x480 with 1 Axes>"
      ]
     },
     "metadata": {},
     "output_type": "display_data"
    }
   ],
   "source": [
    "df['Device Type'].value_counts().plot(kind='bar')\n",
    "plt.show()"
   ]
  },
  {
   "cell_type": "code",
   "execution_count": 135,
   "id": "73ab1504-0021-48d0-a8ee-19c7de22138c",
   "metadata": {
    "tags": []
   },
   "outputs": [],
   "source": [
    "df=df.loc[df['Profile Name'] == 'Code & Dogs']"
   ]
  },
  {
   "cell_type": "code",
   "execution_count": 136,
   "id": "681d7d9a-3f36-42c3-99d5-7410764d0b73",
   "metadata": {
    "tags": []
   },
   "outputs": [
    {
     "data": {
      "image/png": "[encoded data removed]",
      "text/plain": [
       "<Figure size 640x480 with 1 Axes>"
      ]
     },
     "metadata": {},
     "output_type": "display_data"
    }
   ],
   "source": [
    "df['Device Type'].value_counts().plot(kind='bar')\n",
    "plt.show()"
   ]
  },
  {
   "cell_type": "code",
   "execution_count": null,
   "id": "47c04c4a-bae6-4676-8100-928c6f416255",
   "metadata": {},
   "outputs": [],
   "source": []
  },
  {
   "cell_type": "code",
   "execution_count": null,
   "id": "ee31890a-a380-4201-bcd1-0b1909c8a0ab",
   "metadata": {},
   "outputs": [],
   "source": []
  },
  {
   "cell_type": "code",
   "execution_count": null,
   "id": "3c31883c-b427-407d-a855-e9feae58e0ce",
   "metadata": {},
   "outputs": [],
   "source": []
  }
 ],
 "metadata": {
  "kernelspec": {
   "display_name": "Python 3 (ipykernel)",
   "language": "python",
   "name": "python3"
  },
  "language_info": {
   "codemirror_mode": {
    "name": "ipython",
    "version": 3
   },
   "file_extension": ".py",
   "mimetype": "text/x-python",
   "name": "python",
   "nbconvert_exporter": "python",
   "pygments_lexer": "ipython3",
   "version": "3.11.5"
  }
 },
 "nbformat": 4,
 "nbformat_minor": 5
}
